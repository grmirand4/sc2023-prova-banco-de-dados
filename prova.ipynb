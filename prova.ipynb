{
 "cells": [
  {
   "cell_type": "markdown",
   "metadata": {},
   "source": [
    "# Avaliação - Bancos de Dados I\n",
    "\n",
    "**Aluno:** Gabriel Resende Miranda\n",
    "\n",
    "**Professor:** Lucas Ximenes"
   ]
  },
  {
   "cell_type": "markdown",
   "metadata": {},
   "source": [
    "## Modelagem e normalização de bancos de dados relacionais\n",
    "\n",
    "Certo dia, um dos gestores do banco em que você trabalha como cientista de dados procurou você pedindo ajuda para projetar um pequeno banco de dados com o objetivo de mapear os clientes da companhia pelos diferentes produtos financeiros que eles contrataram.\n",
    "\n",
    "O gestor explicou que o banco tinha uma grande quantidade de clientes e oferecia uma variedade de produtos financeiros, como cartões de crédito, empréstimos, seguros e investimentos. No entanto, eles estavam tendo dificuldades para entender quais produtos eram mais populares entre os clientes e como esses produtos estavam interagindo entre si.\n",
    "\n",
    "Como ponto de partida, o gestor deixou claro que um cliente pode contratar vários produtos diferentes ao passo que um mesmo produto pode também estar associado a vários clientes diferentes e elaborou um rústico esboço de banco de dados com duas tabelas, da seguinte forma:\n",
    "\n",
    "* **Tabela 1**\n",
    "    * **Nome da tabela:** cliente\n",
    "    * **Colunas:** codigo_cliente, nome_cliente, sobrenome_cliente, telefones_cliente, municipio_cliente, codigo_tipo_cliente, tipo_cliente\n",
    "* **Tabela 2**\n",
    "    * **Nome da tabela:** produto\n",
    "    * **Colunas:** codigo_produto, nome_produto, descricao_produto, codigo_tipo_produto, tipo_produto, codigo_diretor_responsavel, nome_diretor_responsavel, email_diretor_responsavel"
   ]
  },
  {
   "cell_type": "markdown",
   "metadata": {},
   "source": [
    "### Exercício 1\n",
    "\n",
    "_1) Ainda sem fazer normalizações, apresente o modelo conceitual deste esboço oferecido pelo gestor, destacando atributos chaves e multivalorados, caso existam, e apresentando também a cardinalidade dos relacionamentos._"
   ]
  },
  {
   "cell_type": "markdown",
   "metadata": {},
   "source": [
    "![Exercício 1](img/exercicio1.png)\n",
    "\n",
    "Nesse caso, **o único atributo multivalorado** é o atributo ```telefones_cliente``` da tabela ```cliente```."
   ]
  },
  {
   "cell_type": "markdown",
   "metadata": {},
   "source": [
    "### Exercício 2\n",
    "\n",
    "_2) Agora apresente um modelo lógico que expresse as mesmas informações e relacionamentos descritos no modelo original, mas decompondo-os quando necessário para que sejam respeitadas as 3 primeiras formas normais. Destaque atributos chaves e multivalorados, caso existam, e apresente também a cardinalidade dos relacionamentos._"
   ]
  },
  {
   "cell_type": "markdown",
   "metadata": {},
   "source": [
    "Para facilitar a visualização, irei antes construir um **modelo conceitual** respeitando as regras de normalização.\n",
    "\n",
    "![Exercício 2 (conceitual)](img/exercicio2_m_conceitual.png)\n",
    "\n",
    "A partir do modelo conceitual, construí o **modelo lógico** utilizando o software BrModeloWeb:\n",
    "\n",
    "![Exercício 2 (lógico)](img/exercicio2_m_logico.png)\n",
    "\n",
    "A implementação de um banco de dados seguindo essa estrutura pode ser feita com o seguinte comando SQL (`sql/exercicio2.sql`):\n",
    "\n",
    "```sql\n",
    "CREATE TABLE tipo_cliente \n",
    "( \n",
    "    codigo_tipo_cliente INT PRIMARY KEY AUTO_INCREMENT,  \n",
    "    descricao_tipo_cliente VARCHAR(200) NOT NULL\n",
    "); \n",
    "\n",
    "CREATE TABLE cliente \n",
    "( \n",
    "    codigo_cliente INT PRIMARY KEY AUTO_INCREMENT,  \n",
    "    nome_cliente VARCHAR(200) NOT NULL,  \n",
    "    sobrenome_cliente VARCHAR(200) NOT NULL,  \n",
    "    municipio_cliente VARCHAR(200) NOT NULL,  \n",
    "    codigo_tipo_cliente INT,\n",
    "    FOREIGN KEY(codigo_tipo_cliente) REFERENCES tipo_cliente(codigo_tipo_cliente)\n",
    "); \n",
    "\n",
    "CREATE TABLE telefone \n",
    "( \n",
    "    codigo_telefone INT PRIMARY KEY AUTO_INCREMENT,  \n",
    "    numero_telefone VARCHAR(20) NOT NULL,\n",
    "    codigo_cliente INT,\n",
    "    FOREIGN KEY(codigo_cliente) REFERENCES cliente(codigo_cliente)\n",
    "); \n",
    "\n",
    "CREATE TABLE tipo_produto \n",
    "( \n",
    "    codigo_tipo_produto INT PRIMARY KEY AUTO_INCREMENT,  \n",
    "    descricao_tipo_produto VARCHAR(200) NOT NULL\n",
    "); \n",
    "\n",
    "CREATE TABLE diretor_responsavel \n",
    "( \n",
    "    codigo_diretor_responsavel INT PRIMARY KEY AUTO_INCREMENT,  \n",
    "    nome_diretor_responsavel VARCHAR(200) NOT NULL,  \n",
    "    email_diretor_responsavel VARCHAR(200) NOT NULL\n",
    "); \n",
    "\n",
    "CREATE TABLE produto \n",
    "( \n",
    "    codigo_produto INT PRIMARY KEY AUTO_INCREMENT,  \n",
    "    nome_produto VARCHAR(200) NOT NULL,  \n",
    "    descricao_produto VARCHAR(200) NOT NULL,\n",
    "    codigo_tipo_produto INT,\n",
    "    codigo_diretor_responsavel INT,\n",
    "    FOREIGN KEY(codigo_tipo_produto) REFERENCES tipo_produto(codigo_tipo_produto),\n",
    "    FOREIGN KEY(codigo_diretor_responsavel) REFERENCES diretor_responsavel(codigo_diretor_responsavel)\n",
    "); \n",
    "\n",
    "CREATE TABLE contrato \n",
    "( \n",
    "    codigo_cliente INT,  \n",
    "    codigo_produto INT,  \n",
    "    PRIMARY KEY(codigo_cliente, codigo_produto),\n",
    "    FOREIGN KEY(codigo_cliente) REFERENCES cliente(codigo_cliente),\n",
    "    FOREIGN KEY(codigo_produto) REFERENCES produto(codigo_produto)\n",
    ");\n",
    "```"
   ]
  },
  {
   "cell_type": "markdown",
   "metadata": {},
   "source": [
    "## Consultas SQL simples e complexas em um banco de dados MySQL\n",
    "\n",
    "Um exemplo de modelo de banco de dados com relacionamento muitos-para-muitos pode ser o de um e-commerce que tem produtos e categorias, onde um produto pode pertencer a várias categorias e uma categoria pode estar associada a vários produtos. Nesse caso, teríamos duas tabelas: \"produtos\" e \"categorias\", com uma tabela intermediária \"produtos_categorias\" para relacionar os produtos às suas categorias.\n",
    "\n",
    "```sql\n",
    "CREATE TABLE produto (\n",
    "    id_produto INT AUTO_INCREMENT PRIMARY KEY,\n",
    "    nome_produto VARCHAR(100) NOT NULL,\n",
    "    preco_produto DECIMAL(10, 2) NOT NULL\n",
    ");\n",
    "\n",
    "CREATE TABLE categoria (\n",
    "    id_categoria INT AUTO_INCREMENT PRIMARY KEY,\n",
    "    nome_categoria VARCHAR(100) NOT NULL\n",
    ");\n",
    "\n",
    "CREATE TABLE produto_categoria (\n",
    "    id_produto INT,\n",
    "    id_categoria INT,\n",
    "    PRIMARY KEY (id_produto, id_categoria),\n",
    "    FOREIGN KEY(id_produto) REFERENCES produto(id_produto),\n",
    "    FOREIGN KEY(id_categoria) REFERENCES categoria(id_categoria)\n",
    ");\n",
    "```\n",
    "\n",
    "Assim, usando o subconjunto da \"structured query language\" chamado de DQL, produza consultas postgress de modo a atender cada uma das seguintes solicitações:"
   ]
  },
  {
   "cell_type": "markdown",
   "metadata": {},
   "source": [
    "### Exercício 3\n",
    "\n",
    "_3) Liste os nomes de todos os produtos que custam mais de 100 reais, ordenando-os primeiramente pelo preço e em segundo lugar pelo nome. Use alias para mostrar o nome da coluna nome como \"Produto\" e da coluna preco como \"Valor\". A resposta da consulta não deve mostrar outras colunas de dados._"
   ]
  },
  {
   "cell_type": "markdown",
   "metadata": {},
   "source": [
    "Primeiramente, executei o código do enunciado para criar as tabelas (pode ser encontrado em `sql/exercicio3_criando_tabelas`).\n",
    "\n",
    "Após, populei a tabela com algumas informações fictícias para testar o funcionamento (o código pode ser encontrado em `sql/exercicio3_preenchendo_tabelas`).\n",
    "\n",
    "A query para esse exercício fica (`sql/exercicio3_query`):\n",
    "\n",
    "```sql\n",
    "SELECT\n",
    "    nome_produto AS \"Produto\",\n",
    "    preco_produto AS \"Valor\"\n",
    "FROM produto\n",
    "WHERE preco_produto > 100\n",
    "ORDER BY preco_produto, nome_produto;\n",
    "```"
   ]
  },
  {
   "cell_type": "markdown",
   "metadata": {},
   "source": [
    "### Exercício 4\n",
    "\n",
    "_4) Liste todos os ids e preços de produtos cujo preço seja maior do que a média de todos os preços encontrados na tabela \"produtos\"._"
   ]
  },
  {
   "cell_type": "markdown",
   "metadata": {},
   "source": [
    "A query para esse exercício fica (`sql/exercicio4_query`):\n",
    "\n",
    "```sql\n",
    "SELECT\n",
    "    id_produto,\n",
    "    preco_produto \n",
    "FROM produto \n",
    "WHERE preco_produto > (SELECT AVG(preco_produto) FROM produto);\n",
    "```"
   ]
  },
  {
   "cell_type": "markdown",
   "metadata": {},
   "source": [
    "### Exercício 5\n",
    "\n",
    "_5) Para cada categoria, mostre o preço médio do conjunto de produtos a ela associados. Caso uma categoria não tenha nenhum produto a ela associada, esta categoria não deve aparecer no resultado final. A consulta deve estar ordenada pelos nomes das categorias._"
   ]
  },
  {
   "cell_type": "markdown",
   "metadata": {},
   "source": [
    "A query para esse exercício fica (`sql/exercicio5_query`):\n",
    "\n",
    "```sql\n",
    "SELECT \n",
    "    c.nome_categoria, \n",
    "    AVG(p.preco_produto) AS preco_medio\n",
    "FROM \n",
    "    categoria c\n",
    "INNER JOIN \n",
    "    produto_categoria pc ON c.id_categoria = pc.id_categoria\n",
    "INNER JOIN \n",
    "    produto p ON pc.id_produto = p.id_produto\n",
    "GROUP BY \n",
    "    c.nome_categoria\n",
    "ORDER BY \n",
    "    c.nome_categoria;\n",
    "```"
   ]
  },
  {
   "cell_type": "markdown",
   "metadata": {},
   "source": [
    "## Inserções, alterações e remoções de objetos e dados em um banco de dados MySQL\n",
    "\n",
    "Você está participando de um processo seletivo para trabalhar como cientista de dados na Ada, uma das maiores formadoras do país em áreas correlatadas à tecnologia. Dividido em algumas etapas, o processo tem o objetivo de avaliar você nos quesitos Python, Machine Learning e Bancos de Dados. Ainda que os dois primeiros sejam o cerne da sua atuação no dia-a-dia, considera-se que Bancos de Dados também constituem um requisito importante e, por isso, esta etapa pode ser a oportunidade que você precisava para se destacar dentre os seus concorrentes, demonstrando um conhecimento mais amplo do que os demais."
   ]
  },
  {
   "cell_type": "markdown",
   "metadata": {},
   "source": [
    "### Exercício 6\n",
    "\n",
    "_6) Com o objetivo de demonstrar o seu conhecimento através de um exemplo contextualizado com o dia-a-dia da escola, utilize os comandos do subgrupo de funções DDL para construir o banco de dados simples abaixo, que representa um relacionamento do tipo 1,n entre as entidades \"aluno\" e \"turma\":_\n",
    "\n",
    "* **Tabela 1:**\n",
    "    * **Nome da tabela:** aluno\n",
    "    * **Colunas da tabela:** id_aluno (INT), nome_aluno (VARCHAR), aluno_alocado (BOOLEAN), id_turma (INT)\n",
    "* **Tabela 2:**\n",
    "    * **Nome da tabela:** turma\n",
    "    * **Colunas da tabela:** id_turma (INT), código_turma (VARCHAR), nome_turma (VARCHAR)"
   ]
  },
  {
   "cell_type": "markdown",
   "metadata": {},
   "source": [
    "Primeiramente, construí os modelos conceitual e lógico referentes a esse exercício:\n",
    "\n",
    "![Exercício 6 (modelo conceitual)](img/exercicio6_m_conceitual.png)\n",
    "\n",
    "![Exercício 6 (modelo lógico)](img/exercicio6_m_logico.png)\n",
    "\n",
    "Os comandos para criação dessa tabela são (`sql/exercicio6_criando_tabelas`):\n",
    "\n",
    "```sql\n",
    "CREATE TABLE turma (\n",
    "    id_turma INT AUTO_INCREMENT PRIMARY KEY,\n",
    "    codigo_turma VARCHAR(100) NOT NULL,\n",
    "    nome_turma VARCHAR(100) NOT NULL\n",
    ");\n",
    "\n",
    "CREATE TABLE aluno (\n",
    "    id_aluno INT AUTO_INCREMENT PRIMARY KEY,\n",
    "    nome_aluno VARCHAR(255) NOT NULL,\n",
    "    aluno_alocado BOOLEAN NOT NULL DEFAULT FALSE,\n",
    "    id_turma INT,\n",
    "    FOREIGN KEY(id_turma) REFERENCES turma(id_turma)\n",
    ");\n",
    "```\n",
    "\n",
    "Note que, por padrão, coloquei os valores de `aluno.aluno_alocado = FALSE`."
   ]
  },
  {
   "cell_type": "markdown",
   "metadata": {},
   "source": [
    "### Exercício 7\n",
    "\n",
    "_7) Agora que você demonstrou que consegue ser mais do que um simples usuário do banco de dados, mostre separadamente cada um dos códigos DML necessários para cumprir cada uma das etapas a seguir:_"
   ]
  },
  {
   "cell_type": "markdown",
   "metadata": {},
   "source": [
    "_a) Inserir pelo menos duas turmas diferentes na tabela de turma;_\n",
    "```sql\n",
    "INSERT INTO turma (codigo_turma, nome_turma) VALUES\n",
    "(\"BD001\", \"Banco de Dados I\"),\n",
    "(\"ES001\", \"Estatística\"),\n",
    "(\"DS001\", \"Lógica de Programação\"),\n",
    "(\"DS002\", \"Técnicas de Programação\"),\n",
    "(\"DS003\", \"Machine Learning\");\n",
    "```\n",
    "\n",
    "_b) Inserir pelo menos 1 aluno alocado em cada uma destas turmas na tabela aluno (todos com FALSE na coluna aluno_alocado);_\n",
    "```sql\n",
    "INSERT INTO aluno (nome_aluno, id_turma) VALUES\n",
    "(\"Pedro\", 1),\n",
    "(\"Mariana\", 2),\n",
    "(\"Lucas\", 3),\n",
    "(\"Aline\", 4),\n",
    "(\"Henrique\", 5);\n",
    "```\n",
    "\n",
    "_c) Inserir pelo menos 2 alunos não alocados em nenhuma turma na tabela aluno (todos com FALSE na coluna aluno_alocado);_\n",
    "```sql\n",
    "INSERT INTO aluno (nome_aluno) VALUES\n",
    "(\"Gabriela\"),\n",
    "(\"Rafael\");\n",
    "```\n",
    "\n",
    "_d) Atualizar a coluna aluno_alocado da tabela aluno, de modo que os alunos associados a uma disciplina recebam o valor True e alunos não associdos a nenhuma disciplina recebam o falor False para esta coluna._\n",
    "```sql\n",
    "UPDATE aluno \n",
    "SET aluno_alocado = TRUE \n",
    "WHERE id_turma IS NOT NULL;\n",
    "\n",
    "UPDATE aluno \n",
    "SET aluno_alocado = FALSE \n",
    "WHERE id_turma IS NULL;\n",
    "```\n",
    "\n",
    "Todos os comandos acima estão no arquivo `sql/exercicio7`."
   ]
  }
 ],
 "metadata": {
  "kernelspec": {
   "display_name": "Python 3",
   "language": "python",
   "name": "python3"
  },
  "language_info": {
   "codemirror_mode": {
    "name": "ipython",
    "version": 3
   },
   "file_extension": ".py",
   "mimetype": "text/x-python",
   "name": "python",
   "nbconvert_exporter": "python",
   "pygments_lexer": "ipython3",
   "version": "3.11.5"
  },
  "orig_nbformat": 4
 },
 "nbformat": 4,
 "nbformat_minor": 2
}
